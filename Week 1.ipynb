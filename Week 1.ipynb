{
 "cells": [
  {
   "cell_type": "code",
   "execution_count": 1,
   "metadata": {},
   "outputs": [
    {
     "name": "stdout",
     "output_type": "stream",
     "text": [
      "Hello World\n"
     ]
    }
   ],
   "source": [
    "print(\"Hello World\")"
   ]
  },
  {
   "cell_type": "code",
   "execution_count": 5,
   "metadata": {},
   "outputs": [
    {
     "name": "stdout",
     "output_type": "stream",
     "text": [
      "!Paul!Paul!\n"
     ]
    }
   ],
   "source": [
    "name = input(\"Enter your name: \")\n",
    "print(f\"!{name}!{name}!\")\n",
    "\n"
   ]
  },
  {
   "cell_type": "markdown",
   "metadata": {},
   "source": [
    "Name and Address\n",
    "Please write a program which asks for the user's name and address. The program should also print out the given information, as follows:\n",
    "Sample output:\n",
    "\n",
    "Given name: Steve\n",
    "Family name: Sanders\n",
    "Street address: 91 Station Road\n",
    "City and postal code: London EC05 6AW\n",
    "\n",
    "Steve Sanders\n",
    "91 Station Road\n",
    "London EC05 6AW\n",
    "        "
   ]
  },
  {
   "cell_type": "code",
   "execution_count": 7,
   "metadata": {},
   "outputs": [
    {
     "name": "stdout",
     "output_type": "stream",
     "text": [
      "Steve Sanders\n",
      "91 Station Road\n",
      "London EC05 6AW\n"
     ]
    }
   ],
   "source": [
    "gname = input(\"Enter your given name: \")\n",
    "fname = input(\"Enter your family name: \")\n",
    "address = input(\"Enter your street address: \")\n",
    "candpost = input(\"Enter your City and postal code: \")\n",
    "print(gname + \" \" + fname)\n",
    "print(address)\n",
    "print(candpost)"
   ]
  },
  {
   "cell_type": "markdown",
   "metadata": {},
   "source": [
    "Please write a program which prints out the following story. The user gives a name and a year, which should be inserted into the printout.\n",
    "Sample output:\n",
    "\n",
    "Please type in a name: Mary\n",
    "Please type in a year:1572\n",
    "\n",
    "Mary is a valiant knight, born in the year 1572. One morning Mary woke up to an awful racket: a dragon was approaching the village. Only Mary could save the village's residents.\n",
    "        "
   ]
  },
  {
   "cell_type": "code",
   "execution_count": 8,
   "metadata": {},
   "outputs": [
    {
     "name": "stdout",
     "output_type": "stream",
     "text": [
      "Mary is a valiant knight, born in the year 1572. One morning Mary woke up to an awful racket: a dragon was approaching the village. Only Mary could save the village's residents.\n"
     ]
    }
   ],
   "source": [
    "name = input(\"Please type in a name: \")\n",
    "year = input(\"Please type in a year: \")\n",
    "print(name + \" is a valiant knight, born in the year \" + year + \".\" \n",
    "      + \" One morning Mary woke up to an awful racket: a dragon was approaching the village. Only Mary could save the village's residents.\") "
   ]
  },
  {
   "cell_type": "markdown",
   "metadata": {},
   "source": [
    "Extra Space:\n",
    "Your friend is working on an app for jobseekers. She sends you this bit of code:\n",
    "name = \"Tim Tester\"\n",
    "age = 20\n",
    "skill1 = \"python\"\n",
    "level1 = \"beginner\"\n",
    "skill2 = \"java\"\n",
    "level2 = \"veteran\"\n",
    "skill3 = \"programming\"\n",
    "level3 = \"semiprofessional\"\n",
    "lower = 2000\n",
    "upper = 3000\n",
    "\n",
    "print(\"my name is \", name, \" , I am \", age, \"years old\")\n",
    "print(\"my skills are\")\n",
    "print(\"- \", skill1, \" (\", level1, \")\")\n",
    "print(\"- \", skill2, \" (\", level2, \")\")\n",
    "print(\"- \", skill3, \" (\", level3, \" )\")\n",
    "print(\"I am looking for a job with a salary of\", lower, \"-\", upper, \"euros per month\")\n",
    "\n",
    "    \n",
    "Sample output:\n",
    "my name is Tim Tester, I am 20 years old\n",
    "\n",
    "my skills are\n",
    " - python (beginner)\n",
    " - java (veteran)\n",
    " - programming (semiprofessional)\n",
    "\n",
    "I am looking for a job with a salary of 2000-3000 euros per month\n",
    "        \n"
   ]
  },
  {
   "cell_type": "code",
   "execution_count": 37,
   "metadata": {},
   "outputs": [
    {
     "name": "stdout",
     "output_type": "stream",
     "text": [
      "my name is Tim Tester , I am 20 years old\n",
      "\n",
      "my skills are\n",
      "- python  (beginner)\n",
      "- java (veteran)\n",
      "- programming (semiprofessional)\n",
      "\n",
      "I am looking for a job with a salary of 2000-3000 euros per month\n"
     ]
    }
   ],
   "source": [
    "name = \"Tim Tester\"\n",
    "age = 20\n",
    "skill1 = \"python\"\n",
    "level1 = \"beginner\"\n",
    "skill2 = \"java\"\n",
    "level2 = \"veteran\"\n",
    "skill3 = \"programming\"\n",
    "level3 = \"semiprofessional\"\n",
    "lower = 2000\n",
    "upper = 3000\n",
    "\n",
    "print(\"my name is\", name, \", I am\", age, \"years old\\n\")\n",
    "print(\"my skills are\")\n",
    "print(\"-\", skill1,\" (\"+ level1 +\")\")\n",
    "print(\"-\", skill2, \"(\"+ level2 +\")\")\n",
    "print(\"-\", skill3, \"(\"+ level3 +\")\\n\")\n",
    "print(\"I am looking for a job with a salary of\", str(lower) +\"-\"+ str(upper), \"euros per month\")"
   ]
  },
  {
   "cell_type": "markdown",
   "metadata": {},
   "source": [
    "Fix the code: Print a single line\n",
    "Each print command usually prints out a line of its own, complete with a change of line at the end. However, if the print command is given an additional argument end = \"\", it will not print a line change.\n",
    "\n",
    "For example:\n",
    "\n",
    "print(\"Hi \", end=\"\")\n",
    "print(\"there!\")\n",
    "\n",
    "Sample output\n",
    "Hi there!\n",
    "Please fix this program so that the entire calculation, complete with result, is printed out on a single line. Do not change the number of print commands used.\n",
    "\n",
    "\n",
    "print(5)\n",
    "print(\" + \")\n",
    "print(8)\n",
    "print(\" - \")\n",
    "print(4)\n",
    "print(\" = \")\n",
    "print(5 + 8 - 4)\n",
    " "
   ]
  },
  {
   "cell_type": "code",
   "execution_count": 39,
   "metadata": {},
   "outputs": [
    {
     "name": "stdout",
     "output_type": "stream",
     "text": [
      "5 + 8 - 4 = 9"
     ]
    }
   ],
   "source": [
    "print(5, end=\"\")\n",
    "print(\" + \", end=\"\")\n",
    "print(8, end=\"\")\n",
    "print(\" - \", end=\"\")\n",
    "print(4, end=\"\")\n",
    "print(\" = \", end=\"\")\n",
    "print(5 + 8 - 4, end=\"\")"
   ]
  },
  {
   "cell_type": "markdown",
   "metadata": {},
   "source": [
    "Times five\n",
    "Please write a program which asks the user for a number. The program then prints out the number multiplied by five. The program should function as follows:\n",
    "Sample output:\n",
    "\n",
    "Please type in a number: 3\n",
    "3 times 5 is 15"
   ]
  },
  {
   "cell_type": "code",
   "execution_count": 43,
   "metadata": {},
   "outputs": [
    {
     "name": "stdout",
     "output_type": "stream",
     "text": [
      "3 times 5 is 15\n"
     ]
    }
   ],
   "source": [
    "num = int(input(\"Please type in a number: \"))\n",
    "\n",
    "print(num, \"times 5 is\", num * 5)"
   ]
  },
  {
   "cell_type": "markdown",
   "metadata": {},
   "source": [
    "Name and age\n",
    "Please write a program which asks for the user's name and year of birth. The program then prints out a message as follows:\n",
    "Sample output:\n",
    "\n",
    "What is your name? Frances Fictitious\n",
    "Which year were you born? 1990\n",
    "Hi Frances Fictitious, you will be 35 years old at the end of the year 2025"
   ]
  },
  {
   "cell_type": "code",
   "execution_count": 44,
   "metadata": {},
   "outputs": [
    {
     "name": "stdout",
     "output_type": "stream",
     "text": [
      "Hello Frances you will be 35 years old at the end of the year 2025.\n"
     ]
    }
   ],
   "source": [
    "name = input(\"What is your name? \")\n",
    "year = input(\"What year were you born? \")\n",
    "age = 2025 - int(year)\n",
    "print(\"Hello\", name, \"you will be\", age, \"years old at the end of the year 2025.\")"
   ]
  },
  {
   "cell_type": "markdown",
   "metadata": {},
   "source": [
    "Seconds in a day\n",
    "Please write a program which asks the user for a number of days. The program then prints out the number of seconds in the amount of days given.\n",
    "Sample output:\n",
    "How many days? 1\n",
    "Seconds in that many days: 86400\n",
    "\n",
    "Another example:\n",
    "\n",
    "Sample output:\n",
    "\n",
    "How many days? 7\n",
    "Seconds in that many days: 604800"
   ]
  },
  {
   "cell_type": "code",
   "execution_count": 47,
   "metadata": {},
   "outputs": [
    {
     "name": "stdout",
     "output_type": "stream",
     "text": [
      "Seconds in that many days: 604800\n"
     ]
    }
   ],
   "source": [
    "days = int(input(\"How many days\"))\n",
    "print(\"Seconds in that many days:\", days * 24 * 60 * 60)"
   ]
  },
  {
   "cell_type": "markdown",
   "metadata": {},
   "source": [
    "Fix the code: Product\n",
    "This program asks the user for three numbers. The program then prints out their product, that is, the numbers multiplied by each other. There is, however, something wrong with the program - it doesn't work quite right, as you can see if you run it. Please fix it.\n",
    "Sample output:\n",
    "Please type in the first number: 2\n",
    "Please type in the second number: 3\n",
    "Please type in the third number: 5\n",
    "The product is 30"
   ]
  },
  {
   "cell_type": "code",
   "execution_count": 50,
   "metadata": {},
   "outputs": [
    {
     "name": "stdout",
     "output_type": "stream",
     "text": [
      "The result is 30\n"
     ]
    }
   ],
   "source": [
    "num = int(input(\"Please type in the first number: \"))\n",
    "num = int(input(\"Please type in the second number: \")) * num\n",
    "num = int(input(\"Please type in the third number: \")) * num\n",
    "print(\"The result is\", num)"
   ]
  },
  {
   "cell_type": "markdown",
   "metadata": {},
   "source": [
    "Please write a program which asks the user for two numbers. The program will then print out the sum and the product of the two numbers.\n",
    "Sample output:\n",
    "Number 1: 3\n",
    "Number 2: 7\n",
    "The sum of the numbers: 10\n",
    "The product of the numbers: 21"
   ]
  },
  {
   "cell_type": "code",
   "execution_count": 52,
   "metadata": {},
   "outputs": [
    {
     "name": "stdout",
     "output_type": "stream",
     "text": [
      "The sum of the numbers is 10\n",
      "The product of the numbers is 21\n"
     ]
    }
   ],
   "source": [
    "num1 = int(input(\"Please type in the first number: \"))\n",
    "num2 = int(input(\"Please type in the second number: \"))\n",
    "print(\"The sum of the numbers is\", num1 + num2)\n",
    "print(\"The product of the numbers is\", num1 * num2)"
   ]
  },
  {
   "cell_type": "markdown",
   "metadata": {},
   "source": [
    "Sum and mean\n",
    "Please write a program which asks the user for four numbers. The program then prints out the sum and the mean of the numbers.\n",
    "Sample output:\n",
    "Number 1: 2\n",
    "Number 2: 1\n",
    "Number 3: 6\n",
    "Number 4: 7\n",
    "The sum of the numbers is 16 and the mean is 4.0"
   ]
  },
  {
   "cell_type": "code",
   "execution_count": 53,
   "metadata": {},
   "outputs": [
    {
     "name": "stdout",
     "output_type": "stream",
     "text": [
      "The sum of the numbers is 16 and the mean is 4.0\n"
     ]
    }
   ],
   "source": [
    "num = int(input(\"Number 1:\"))\n",
    "num = num + int(input(\"Number 2:\"))\n",
    "num = num + int(input(\"Number 3:\"))\n",
    "num = num + int(input(\"Number 4:\"))\n",
    "print(\"The sum of the numbers is\", num, \"and the mean is\", num / 4)"
   ]
  },
  {
   "cell_type": "markdown",
   "metadata": {},
   "source": [
    "Students in groups\n",
    "Please write a program which asks for the number of students on a course and the desired group size. The program will then print out the number of groups formed from the students on the course. If the division is not even, one of the groups may have fewer members than specified. If you can't get your code working as expected, it is absolutely okay to move on and come back to this exercise later. The topic of the next section is conditional statements. This exercise can also be solved using a conditional construction.\n",
    "Sample output:\n",
    "\n",
    "How many students on the course? 8\n",
    "Desired group size? 4\n",
    "Number of groups formed: 2\n",
    "\n",
    "Sample output:\n",
    "\n",
    "How many students on the course? 11\n",
    "Desired group size? 3\n",
    "Number of groups formed: 4"
   ]
  },
  {
   "cell_type": "code",
   "execution_count": 58,
   "metadata": {},
   "outputs": [
    {
     "name": "stdout",
     "output_type": "stream",
     "text": [
      "Number of groups formed: 2\n"
     ]
    }
   ],
   "source": [
    "students = int(input(\"How many students on the course? \"))\n",
    "size = int(input(\"Desired group size?\"))\n",
    "print(\"Number of groups formed:\", students // size)\n"
   ]
  },
  {
   "cell_type": "markdown",
   "metadata": {},
   "source": [
    "Orwell\n",
    "Please write a program which asks the user for an integer number. The program should print out \"Orwell\" if the number is exactly 1984, and otherwise do nothing.\n",
    "Sample output:\n",
    "\n",
    "Please type in a number: 2020\n",
    "\n",
    "Sample output:\n",
    "\n",
    "Please type in a number: 1984\n",
    "Orwell"
   ]
  },
  {
   "cell_type": "code",
   "execution_count": 60,
   "metadata": {},
   "outputs": [
    {
     "name": "stdout",
     "output_type": "stream",
     "text": [
      "Orwell\n"
     ]
    }
   ],
   "source": [
    "num = int(input(\"Please type in a number: \"))\n",
    "if num == 1984:\n",
    "    print(\"Orwell\")"
   ]
  },
  {
   "cell_type": "markdown",
   "metadata": {},
   "source": [
    "Absolute value\n",
    "Please write a program which asks the user for an integer number. If the number is less than zero, the program should print out the number multiplied by -1. Otherwise the program prints out the number as is. Please have a look at the examples of expected behaviour below.\n",
    "Sample output:\n",
    "\n",
    "Please type in a number: -7\n",
    "The absolute value of this number is 7\n",
    "\n",
    "Sample output:\n",
    "\n",
    "Please type in a number: 1\n",
    "The absolute value of this number is 1\n",
    "\n",
    "Sample output:\n",
    "\n",
    "Please type in a number: -99\n",
    "The absolute value of this number is 99"
   ]
  },
  {
   "cell_type": "code",
   "execution_count": 76,
   "metadata": {},
   "outputs": [
    {
     "name": "stdout",
     "output_type": "stream",
     "text": [
      "The absolute value of this number is  99\n"
     ]
    }
   ],
   "source": [
    "num = int(input(\"Please type in a number: \"))\n",
    "if num < 0:\n",
    "    print(\"The absolute value of this number is \", num * -1)\n",
    "else:\n",
    "    print(\"The absolute value of this number is \", num)"
   ]
  },
  {
   "cell_type": "markdown",
   "metadata": {},
   "source": [
    "Soup or no soup\n",
    "Please write a program which asks for the user's name. If the name is anything but \"Jerry\", the program then asks for the number of portions and prints out the total cost. The price of a single portion is 5.90.\n",
    "Sample output:\n",
    "\n",
    "Please tell me your name: Kramer\n",
    "How many portions of soup? 2\n",
    "The total cost is 11.8\n",
    "Next please!\n",
    "\n",
    "Sample output:\n",
    "\n",
    "Please tell me your name: Jerry\n",
    "Next please!"
   ]
  },
  {
   "cell_type": "code",
   "execution_count": 80,
   "metadata": {},
   "outputs": [
    {
     "name": "stdout",
     "output_type": "stream",
     "text": [
      "The total cost is 23.6\n",
      "Next please!\n"
     ]
    }
   ],
   "source": [
    "name = input(\"Please tell me your name: \")\n",
    "if name != \"Jerry\":\n",
    "    portions = int(input(\"How many portions of soup do you want? \"))\n",
    "    print(\"The total cost is\", portions * 5.90)\n",
    "\n",
    "print(\"Next please!\")"
   ]
  },
  {
   "cell_type": "markdown",
   "metadata": {},
   "source": [
    "Order of magnitude\n",
    "Please write a program which asks the user for an integer number. The program should then print out the magnitude of the number according to the following examples.\n",
    "Sample output:\n",
    "\n",
    "Please type in a number: 950\n",
    "This number is smaller than 1000\n",
    "Thank you!\n",
    "\n",
    "Sample output:\n",
    "\n",
    "Please type in a number: 59\n",
    "This number is smaller than 1000\n",
    "This number is smaller than 100\n",
    "Thank you!\n",
    "\n",
    "Sample output:\n",
    "\n",
    "Please type in a number: 2\n",
    "This number is smaller than 1000\n",
    "This number is smaller than 100\n",
    "This number is smaller than 10\n",
    "Thank you!\n",
    "\n",
    "Sample output:\n",
    "\n",
    "Please type in a number: 1123\n",
    "Thank you!"
   ]
  },
  {
   "cell_type": "code",
   "execution_count": 85,
   "metadata": {},
   "outputs": [
    {
     "name": "stdout",
     "output_type": "stream",
     "text": [
      "Thank you!\n"
     ]
    }
   ],
   "source": [
    "num = int(input(\"Please type in a number: \"))\n",
    "\n",
    "if num < 1000:\n",
    "    print(\"The number is smaller than 1000\")\n",
    "\n",
    "if num < 100:\n",
    "    print(\"The number is smaller than 100\")\n",
    "\n",
    "if num < 10:\n",
    "    print(\"The number is smaller than 10\")\n",
    "\n",
    "print(\"Thank you!\")\n"
   ]
  },
  {
   "cell_type": "markdown",
   "metadata": {},
   "source": [
    "Calculator\n",
    "Please write a program which asks the user for two numbers and an operation. If the operation is add, multiply or subtract, the program should calculate and print out the result of the operation with the given numbers. If the user types in anything else, the program should print out nothing.\n",
    "Sample output:\n",
    "\n",
    "Number 1: 10\n",
    "Number 2: 17\n",
    "Operation: add\n",
    "\n",
    "10 + 17 = 27\n",
    "\n",
    "Sample output:\n",
    "\n",
    "Number 1: 4\n",
    "Number 2: 6\n",
    "Operation: multiply\n",
    "\n",
    "4 * 6 = 24\n",
    "\n",
    "Sample output:\n",
    "\n",
    "Number 1: 4\n",
    "Number 2: 6\n",
    "Operation: subtract\n",
    "\n",
    "4 - 6 = -2"
   ]
  },
  {
   "cell_type": "code",
   "execution_count": 5,
   "metadata": {},
   "outputs": [],
   "source": [
    "num1 = int(input(\"Number 1: \"))\n",
    "num2 = int(input(\"Number 2: \"))\n",
    "op = input(\"Operation:\")\n",
    "\n",
    "if op == \"add\":\n",
    "    print(num1, \"+\", num2, \"=\", num1 + num2)\n",
    "\n",
    "if op == \"multiply\":\n",
    "    print(num1, \"*\", num2, \"=\", num1 * num2)\n",
    "\n",
    "if op == \"subtract\":\n",
    "    print(num1, \"-\", num2, \"=\", num1 - num2)"
   ]
  },
  {
   "cell_type": "markdown",
   "metadata": {},
   "source": [
    "Temperatures\n",
    "Please write a program which asks the user for a temperature in degrees Fahrenheit, and then prints out the same in degrees Celsius. If the converted temperature falls below zero degrees Celsius, the program should also print out \"Brr! It's cold in here!\". The formula for converting degrees Fahrenheit to degrees Celsius can be found easily by any search engine of your choice.\n",
    "Sample output:\n",
    "\n",
    "Please type in a temperature (F): 101\n",
    "101 degrees Fahrenheit equals 38.333333333333336 degrees Celsius\n",
    "\n",
    "Sample output:\n",
    "\n",
    "Please type in a temperature (F): 21\n",
    "21 degrees Fahrenheit equals -6.111111111111111 degrees Celsius\n",
    "Brr! It's cold in here!"
   ]
  },
  {
   "cell_type": "code",
   "execution_count": 7,
   "metadata": {},
   "outputs": [
    {
     "name": "stdout",
     "output_type": "stream",
     "text": [
      "21 degrees Farenheit equals -6.111111111111111 degrees Celcius\n",
      "Brr! It's cold in here!\n"
     ]
    }
   ],
   "source": [
    "temp = int(input(\"Please type in a temperature (F):\"))\n",
    "celcius = (temp - 32) * 5 / 9\n",
    "\n",
    "print(temp, \"degrees Farenheit equals\", celcius, \"degrees Celcius\")\n",
    "\n",
    "if celcius < 0:\n",
    "    print(\"Brr! It's cold in here!\")\n"
   ]
  },
  {
   "cell_type": "markdown",
   "metadata": {},
   "source": [
    "Daily wages\n",
    "Please write a program which asks for the hourly wage, hours worked, and the day of the week. The program should then print out the daily wages, which equal hourly wage multiplied by hours worked, except on Sundays when the hourly wage is doubled.\n",
    "Sample output:\n",
    "\n",
    "Hourly wage: 8.5\n",
    "Hours worked: 3\n",
    "Day of the week: Monday\n",
    "Daily wages: 25.5 euros\n",
    "\n",
    "Sample output:\n",
    "\n",
    "Hourly wage: 12.5\n",
    "Hours worked: 10\n",
    "Day of the week: Sunday\n",
    "Daily wages: 250.0 euros"
   ]
  },
  {
   "cell_type": "code",
   "execution_count": 10,
   "metadata": {},
   "outputs": [
    {
     "name": "stdout",
     "output_type": "stream",
     "text": [
      "Daily wages:  250.0 euros\n"
     ]
    }
   ],
   "source": [
    "wage = float(input(\"Hourly wage: \"))\n",
    "hours = float(input(\"Hours worked: \"))\n",
    "day = input(\"Day of the week: \")\n",
    "if day == \"Sunday\":\n",
    "    wage = wage * 2\n",
    "print(\"Daily wages: \", wage * hours, \"euros\")"
   ]
  },
  {
   "cell_type": "markdown",
   "metadata": {},
   "source": [
    "Loyalty bonus\n",
    "This program calculates the end of year bonus a customer receives on their loyalty card. The bonus is calculated with the following formula: If there are less than a hundred points on the card, the bonus is 10 % In any other case the bonus is 15 % There is a problem with the program, so with some inputs it doesn't work quite right:\n",
    "Sample output\n",
    "\n",
    "How many points are on your card? 55\n",
    "Your bonus is 10 %\n",
    "You now have 60.5 points\n",
    "\n",
    "Sample output\n",
    "\n",
    "How many points are on your card? 95\n",
    "Your bonus is 10 %\n",
    "Your bonus is 15 %\n",
    "You now have 120.175 points\n",
    "\n",
    "Please fix the program so that there is always either a 10 % or a 15 % bonus, but never both."
   ]
  },
  {
   "cell_type": "code",
   "execution_count": 15,
   "metadata": {},
   "outputs": [
    {
     "name": "stdout",
     "output_type": "stream",
     "text": [
      "Your bonus is  15.0 %\n",
      "You now have  120.75 points.\n"
     ]
    }
   ],
   "source": [
    "points = int(input(\"How many points are on your card? \"))\n",
    "\n",
    "if points < 100:\n",
    "    bonus = 0.10\n",
    "else:\n",
    "    bonus = 0.15\n",
    "print(\"Your bonus is \", bonus * 100, \"%\")\n",
    "print(\"You now have \", points + bonus * points, \"points.\")"
   ]
  },
  {
   "cell_type": "markdown",
   "metadata": {},
   "source": [
    "What to wear tomorrow\n",
    "Please write a program which asks for tomorrow's weather forecast and then suggests weather-appropriate clothing. The suggestion should change if the temperature (measured in degrees Celsius) is over 20, 10 or 5 degrees, and also if there is rain on the radar.\n",
    "Sample output:\n",
    "\n",
    "What is the weather forecast for tomorrow?\n",
    "Temperature: 21\n",
    "Will it rain (yes/no): no\n",
    "Wear jeans and a T-shirt\n",
    "\n",
    "Sample output:\n",
    "\n",
    "What is the weather forecast for tomorrow?\n",
    "Temperature: 11\n",
    "Will it rain (yes/no): no\n",
    "Wear jeans and a T-shirt\n",
    "I recommend a jumper as well\n",
    "\n",
    "Sample output:\n",
    "\n",
    "What is the weather forecast for tomorrow?\n",
    "Temperature: 7\n",
    "Will it rain (yes/no): no\n",
    "Wear jeans and a T-shirt\n",
    "I recommend a jumper as well\n",
    "Take a jacket with you\n",
    "\n",
    "Sample output:\n",
    "\n",
    "What is the weather forecast for tomorrow?\n",
    "Temperature: 3\n",
    "Will it rain (yes/no): yes\n",
    "Wear jeans and a T-shirt\n",
    "I recommend a jumper as well\n",
    "Take a jacket with you\n",
    "Make it a warm coat, actually\n",
    "I think gloves are in order\n",
    "Don't forget your umbrella!"
   ]
  },
  {
   "cell_type": "code",
   "execution_count": null,
   "metadata": {},
   "outputs": [],
   "source": []
  }
 ],
 "metadata": {
  "kernelspec": {
   "display_name": ".venv",
   "language": "python",
   "name": "python3"
  },
  "language_info": {
   "codemirror_mode": {
    "name": "ipython",
    "version": 3
   },
   "file_extension": ".py",
   "mimetype": "text/x-python",
   "name": "python",
   "nbconvert_exporter": "python",
   "pygments_lexer": "ipython3",
   "version": "3.13.2"
  }
 },
 "nbformat": 4,
 "nbformat_minor": 2
}
